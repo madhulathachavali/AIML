{
  "nbformat": 4,
  "nbformat_minor": 0,
  "metadata": {
    "colab": {
      "name": "ATAC Analysis.ipynb",
      "provenance": [],
      "collapsed_sections": [],
      "authorship_tag": "ABX9TyPP5QPDt+dojAmcRrSEywF+",
      "include_colab_link": true
    },
    "kernelspec": {
      "name": "python3",
      "display_name": "Python 3"
    },
    "language_info": {
      "name": "python"
    }
  },
  "cells": [
    {
      "cell_type": "markdown",
      "metadata": {
        "id": "view-in-github",
        "colab_type": "text"
      },
      "source": [
        "<a href=\"https://colab.research.google.com/github/madhulathachavali/AIML/blob/main/ATAC_Analysis.ipynb\" target=\"_parent\"><img src=\"https://colab.research.google.com/assets/colab-badge.svg\" alt=\"Open In Colab\"/></a>"
      ]
    },
    {
      "cell_type": "markdown",
      "source": [
        "## Analyzing scATACseq data\n",
        "\n",
        "The data used in this analysis is Adult Mouse Cortex Cells dataset from 10X Genomics.\n",
        "\n",
        "Background Information: Single Cell ATAC Dataset by Cell Ranger ATAC 2.1.0\n",
        "Adult mouse cortex was obtained by 10x Genomics from BrainBits, LLC (PN C57ACX).\n",
        "PeakVI is used for analyzing scATACseq data.\n",
        "\n",
        "Data Analysis Outline\n",
        "\n",
        "1. Read and set-up data\n",
        "\n",
        "2. Train the model\n",
        "\n",
        "3. Accessing and visualizing the latent space\n",
        "\n",
        "4. Differential accessibility"
      ],
      "metadata": {
        "id": "tPcPifAgInvR"
      }
    },
    {
      "cell_type": "code",
      "execution_count": 1,
      "metadata": {
        "colab": {
          "base_uri": "https://localhost:8080/"
        },
        "id": "uzkf8jwnIfNr",
        "outputId": "dfcc9560-6eb2-413d-85e4-2dfa1dfbebe0"
      },
      "outputs": [
        {
          "output_type": "stream",
          "name": "stdout",
          "text": [
            "\u001b[?25l\r\u001b[K     |█▍                              | 10 kB 13.1 MB/s eta 0:00:01\r\u001b[K     |██▉                             | 20 kB 17.6 MB/s eta 0:00:01\r\u001b[K     |████▏                           | 30 kB 7.9 MB/s eta 0:00:01\r\u001b[K     |█████▋                          | 40 kB 9.7 MB/s eta 0:00:01\r\u001b[K     |███████                         | 51 kB 10.2 MB/s eta 0:00:01\r\u001b[K     |████████▍                       | 61 kB 11.9 MB/s eta 0:00:01\r\u001b[K     |█████████▊                      | 71 kB 11.8 MB/s eta 0:00:01\r\u001b[K     |███████████▏                    | 81 kB 12.3 MB/s eta 0:00:01\r\u001b[K     |████████████▌                   | 92 kB 13.6 MB/s eta 0:00:01\r\u001b[K     |██████████████                  | 102 kB 14.5 MB/s eta 0:00:01\r\u001b[K     |███████████████▎                | 112 kB 14.5 MB/s eta 0:00:01\r\u001b[K     |████████████████▊               | 122 kB 14.5 MB/s eta 0:00:01\r\u001b[K     |██████████████████              | 133 kB 14.5 MB/s eta 0:00:01\r\u001b[K     |███████████████████▌            | 143 kB 14.5 MB/s eta 0:00:01\r\u001b[K     |████████████████████▉           | 153 kB 14.5 MB/s eta 0:00:01\r\u001b[K     |██████████████████████▎         | 163 kB 14.5 MB/s eta 0:00:01\r\u001b[K     |███████████████████████▋        | 174 kB 14.5 MB/s eta 0:00:01\r\u001b[K     |█████████████████████████       | 184 kB 14.5 MB/s eta 0:00:01\r\u001b[K     |██████████████████████████▍     | 194 kB 14.5 MB/s eta 0:00:01\r\u001b[K     |███████████████████████████▉    | 204 kB 14.5 MB/s eta 0:00:01\r\u001b[K     |█████████████████████████████▏  | 215 kB 14.5 MB/s eta 0:00:01\r\u001b[K     |██████████████████████████████▋ | 225 kB 14.5 MB/s eta 0:00:01\r\u001b[K     |████████████████████████████████| 235 kB 14.5 MB/s eta 0:00:01\r\u001b[K     |████████████████████████████████| 235 kB 14.5 MB/s \n",
            "\u001b[?25h\u001b[?25l\r\u001b[K     |██████▍                         | 10 kB 26.4 MB/s eta 0:00:01\r\u001b[K     |████████████▉                   | 20 kB 28.7 MB/s eta 0:00:01\r\u001b[K     |███████████████████▎            | 30 kB 34.1 MB/s eta 0:00:01\r\u001b[K     |█████████████████████████▋      | 40 kB 38.2 MB/s eta 0:00:01\r\u001b[K     |████████████████████████████████| 51 kB 5.2 MB/s \n",
            "\u001b[?25h\u001b[34mINFO    \u001b[0m scvi-colab: Installing scvi-tools.                                                                        \n",
            "\u001b[34mINFO    \u001b[0m scvi-colab: Install successful. Testing import.                                                           \n"
          ]
        },
        {
          "output_type": "stream",
          "name": "stderr",
          "text": [
            "Global seed set to 0\n"
          ]
        }
      ],
      "source": [
        "!pip install --quiet scvi-colab\n",
        "from scvi_colab import install\n",
        "install()"
      ]
    },
    {
      "cell_type": "code",
      "source": [
        "# Download the data from 10X Genomics\n",
        "!wget https://cf.10xgenomics.com/samples/cell-atac/2.1.0/8k_mouse_cortex_ATACv2_nextgem_Chromium_Controller/8k_mouse_cortex_ATACv2_nextgem_Chromium_Controller_filtered_peak_bc_matrix.tar.gz\n",
        "!tar -xvf 8k_mouse_cortex_ATACv2_nextgem_Chromium_Controller_filtered_peak_bc_matrix.tar.gz"
      ],
      "metadata": {
        "colab": {
          "base_uri": "https://localhost:8080/"
        },
        "id": "1r5MNkWpJYW3",
        "outputId": "0f288f9d-200a-43a4-e06c-9be5034a5934"
      },
      "execution_count": 2,
      "outputs": [
        {
          "output_type": "stream",
          "name": "stdout",
          "text": [
            "--2022-07-28 00:12:44--  https://cf.10xgenomics.com/samples/cell-atac/2.1.0/8k_mouse_cortex_ATACv2_nextgem_Chromium_Controller/8k_mouse_cortex_ATACv2_nextgem_Chromium_Controller_filtered_peak_bc_matrix.tar.gz\n",
            "Resolving cf.10xgenomics.com (cf.10xgenomics.com)... 104.18.0.173, 104.18.1.173, 2606:4700::6812:1ad, ...\n",
            "Connecting to cf.10xgenomics.com (cf.10xgenomics.com)|104.18.0.173|:443... connected.\n",
            "HTTP request sent, awaiting response... 200 OK\n",
            "Length: 217625405 (208M) [application/x-tar]\n",
            "Saving to: ‘8k_mouse_cortex_ATACv2_nextgem_Chromium_Controller_filtered_peak_bc_matrix.tar.gz’\n",
            "\n",
            "8k_mouse_cortex_ATA 100%[===================>] 207.54M  15.8MB/s    in 10s     \n",
            "\n",
            "2022-07-28 00:12:56 (20.0 MB/s) - ‘8k_mouse_cortex_ATACv2_nextgem_Chromium_Controller_filtered_peak_bc_matrix.tar.gz’ saved [217625405/217625405]\n",
            "\n",
            "filtered_peak_bc_matrix/\n",
            "filtered_peak_bc_matrix/barcodes.tsv\n",
            "filtered_peak_bc_matrix/matrix.mtx\n",
            "filtered_peak_bc_matrix/peaks.bed\n"
          ]
        }
      ]
    },
    {
      "cell_type": "code",
      "source": [
        "import scvi\n",
        "import anndata\n",
        "import scipy\n",
        "import numpy as np\n",
        "import pandas as pd\n",
        "import scanpy as sc\n",
        "import matplotlib.pyplot as plt\n",
        "\n",
        "scvi.settings.seed = 210\n",
        "\n",
        "sc.set_figure_params(figsize=(4, 4), frameon=False)\n",
        "\n",
        "%config InlineBackend.print_figure_kwargs={'facecolor' : \"w\"}\n",
        "%config InlineBackend.figure_format='retina'"
      ],
      "metadata": {
        "colab": {
          "base_uri": "https://localhost:8080/"
        },
        "id": "rWxLs9WcLG4c",
        "outputId": "506a0bb6-4d8b-4b2b-eca0-2068f385434d"
      },
      "execution_count": 4,
      "outputs": [
        {
          "output_type": "stream",
          "name": "stderr",
          "text": [
            "Global seed set to 210\n"
          ]
        }
      ]
    },
    {
      "cell_type": "markdown",
      "source": [
        "### Load the data \n",
        "PeakVI expects as input an AnnData object with a cell-by-region matrix"
      ],
      "metadata": {
        "id": "2zaJSY_iLqQV"
      }
    },
    {
      "cell_type": "code",
      "source": [
        "# Load other than 10X data: 1. read the count matrix into a sparse matrix  2. read cell and region annotations as pandas dataframes\n",
        "#counts = scipy.io.mmread(\"filtered_peak_bc_matrix/matrix.mtx\").T\n",
        "#regions = pd.read_csv(\"filtered_peak_bc_matrix/peaks.bed\", sep='\\t', header=None, names=['chr','start','end'])\n",
        "#cells = pd.read_csv(\"filtered_peak_bc_matrix/barcodes.tsv\", header=None, names=['barcodes'])\n",
        "\n",
        "# Initialize AnnData object\n",
        "#adata = anndata.AnnData(X=counts, obs=cells, var=regions)\n",
        "\n",
        "# read 10x data directly\n",
        "adata = scvi.data.read_10x_atac(\"filtered_peak_bc_matrix\")\n",
        "\n"
      ],
      "metadata": {
        "colab": {
          "base_uri": "https://localhost:8080/"
        },
        "id": "lQxDy6R6LXNO",
        "outputId": "e470aae5-7c25-41c1-a77d-b0fb6b465ae3"
      },
      "execution_count": 5,
      "outputs": [
        {
          "output_type": "stream",
          "name": "stderr",
          "text": [
            "/usr/local/lib/python3.7/dist-packages/scvi/data/_read.py:44: FutureWarning: X.dtype being converted to np.float32 from int64. In the next version of anndata (0.9) conversion will not be automatic. Pass dtype explicitly to avoid this warning. Pass `AnnData(X, dtype=X.dtype, ...)` to get the future behavour.\n",
            "  return AnnData(data.tocsr(), var=coords, obs=cell_annot)\n"
          ]
        }
      ]
    },
    {
      "cell_type": "code",
      "source": [
        "# genes with less than 500 cells are filtered\n",
        "print(adata.shape)\n",
        "# compute the threshold: 5% of the cells\n",
        "#min_cells = int(adata.shape[0] * 0.05)\n",
        "# in-place filtering of regions\n",
        "sc.pp.filter_genes(adata, min_cells=500)\n",
        "print(adata.shape)"
      ],
      "metadata": {
        "colab": {
          "base_uri": "https://localhost:8080/"
        },
        "id": "R66QArh9OF1j",
        "outputId": "412a50ec-fc09-4622-b0d3-87758dbf5d8b"
      },
      "execution_count": 6,
      "outputs": [
        {
          "output_type": "stream",
          "name": "stdout",
          "text": [
            "(7729, 176651)\n",
            "(7729, 35820)\n"
          ]
        }
      ]
    },
    {
      "cell_type": "markdown",
      "source": [
        "### Setup, train and save PEAKVI model"
      ],
      "metadata": {
        "id": "0UrkewsAOfmy"
      }
    },
    {
      "cell_type": "code",
      "source": [
        "scvi.model.PEAKVI.setup_anndata(adata)"
      ],
      "metadata": {
        "id": "QOi2Q7DLObZq"
      },
      "execution_count": 7,
      "outputs": []
    },
    {
      "cell_type": "code",
      "source": [
        "pvi = scvi.model.PEAKVI(adata)\n",
        "pvi.train()"
      ],
      "metadata": {
        "colab": {
          "base_uri": "https://localhost:8080/"
        },
        "id": "cnUhTKmCOth0",
        "outputId": "300d94c2-9656-46c9-e96c-11bea58cb0d1"
      },
      "execution_count": 8,
      "outputs": [
        {
          "metadata": {
            "tags": null
          },
          "name": "stderr",
          "output_type": "stream",
          "text": [
            "GPU available: False, used: False\n",
            "TPU available: False, using: 0 TPU cores\n",
            "IPU available: False, using: 0 IPUs\n",
            "HPU available: False, using: 0 HPUs\n",
            "/usr/local/lib/python3.7/dist-packages/pytorch_lightning/trainer/configuration_validator.py:386: LightningDeprecationWarning: The `Callback.on_epoch_end` hook was deprecated in v1.6 and will be removed in v1.8. Please use `Callback.on_<train/validation/test>_epoch_end` instead.\n",
            "  f\"The `Callback.{hook}` hook was deprecated in v1.6 and\"\n"
          ]
        },
        {
          "output_type": "stream",
          "name": "stdout",
          "text": [
            "Epoch 169/500:  34%|███▍      | 169/500 [1:36:47<3:09:34, 34.36s/it, loss=1.87e+08, v_num=1]\n",
            "Monitored metric reconstruction_loss_validation did not improve in the last 50 records. Best score: 12395.341. Signaling Trainer to stop.\n"
          ]
        }
      ]
    },
    {
      "cell_type": "code",
      "source": [
        "# Save the model\n",
        "pvi.save(\"trained_model\", overwrite=True)"
      ],
      "metadata": {
        "id": "Dx5xwVTqllL3"
      },
      "execution_count": 9,
      "outputs": []
    },
    {
      "cell_type": "code",
      "source": [
        "pvi = scvi.model.PEAKVI.load(\"trained_model\", adata=adata)"
      ],
      "metadata": {
        "colab": {
          "base_uri": "https://localhost:8080/"
        },
        "id": "YcQ3DnL1lsfp",
        "outputId": "649162eb-6f4a-472f-f4c1-d374b68ed7e4"
      },
      "execution_count": 10,
      "outputs": [
        {
          "output_type": "stream",
          "name": "stdout",
          "text": [
            "\u001b[34mINFO    \u001b[0m File trained_model/model.pt already downloaded                                                            \n"
          ]
        }
      ]
    },
    {
      "cell_type": "markdown",
      "source": [
        "### Visualizing and analyzing latent space"
      ],
      "metadata": {
        "id": "jQUrdPj-lwGO"
      }
    },
    {
      "cell_type": "code",
      "source": [
        "# extract the latent representation from the model, and save it back into our AnnData object\n",
        "latent = pvi.get_latent_representation()\n",
        "adata.obsm[\"X_PeakVI\"] = latent\n",
        "\n",
        "print(latent.shape)"
      ],
      "metadata": {
        "colab": {
          "base_uri": "https://localhost:8080/"
        },
        "id": "m2Osw5jylzZ4",
        "outputId": "d5592549-4d9b-480a-baca-c2d60724bc6d"
      },
      "execution_count": 11,
      "outputs": [
        {
          "output_type": "stream",
          "name": "stdout",
          "text": [
            "(7729, 13)\n"
          ]
        }
      ]
    },
    {
      "cell_type": "code",
      "source": [
        "# compute the k-nearest-neighbor graph that is used in both clustering and umap algorithms\n",
        "sc.pp.neighbors(adata, use_rep=\"X_PeakVI\")\n",
        "# compute the umap\n",
        "sc.tl.umap(adata, min_dist=0.2)\n",
        "# cluster the space (using lower resolution to get fewer clusters than the default)\n",
        "sc.tl.leiden(adata, key_added=\"cluster_pvi\", resolution=0.2)"
      ],
      "metadata": {
        "colab": {
          "base_uri": "https://localhost:8080/"
        },
        "id": "tt9xPCEFl-qd",
        "outputId": "6664a069-72db-4453-9114-d31b30d94aeb"
      },
      "execution_count": 16,
      "outputs": [
        {
          "output_type": "stream",
          "name": "stderr",
          "text": [
            "/usr/local/lib/python3.7/dist-packages/numba/np/ufunc/parallel.py:363: NumbaWarning: The TBB threading layer requires TBB version 2019.5 or later i.e., TBB_INTERFACE_VERSION >= 11005. Found TBB_INTERFACE_VERSION = 9107. The TBB threading layer is disabled.\n",
            "  warnings.warn(problem)\n"
          ]
        }
      ]
    },
    {
      "cell_type": "code",
      "source": [
        "sc.pl.umap(adata, color='cluster_pvi')"
      ],
      "metadata": {
        "colab": {
          "base_uri": "https://localhost:8080/",
          "height": 301
        },
        "id": "NkWS1PHhmmbe",
        "outputId": "95be9d9c-cc0a-4d1c-c758-d4495396201d"
      },
      "execution_count": 17,
      "outputs": [
        {
          "output_type": "display_data",
          "data": {
            "text/plain": [
              "<Figure size 320x320 with 1 Axes>"
            ],
            "image/png": "[encoded data removed]"
          },
          "metadata": {
            "image/png": {
              "width": 315,
              "height": 284
            }
          }
        }
      ]
    },
    {
      "cell_type": "markdown",
      "source": [
        "### Differential Accessibility\n",
        "\n",
        "WE are using PeakVI to identify regions that are differentially accessible. This can be done by either comparing one cluster against all others, or comparing two clusters to each other. \n",
        "\n",
        "#### * Marker regions identification\n",
        "One cluster against all clusters gives us marker regions (using one-sided test).\n",
        "The significant regions are preferentially accessible in our target cluster.\n",
        "\n",
        "\n",
        "#### * Differentially accessible regions\n",
        "Using two-sided test to find regions that are differentially accessible(regardless of direction)"
      ],
      "metadata": {
        "id": "mQp8AxS9mtTB"
      }
    },
    {
      "cell_type": "code",
      "source": [
        "# using indices to compare two clusters\n",
        "## use boolean masks or integer indices for the `idx1` and `idx2` arguments\n",
        "da_res21 = pvi.differential_accessibility(\n",
        "    idx1 = adata.obs.cluster_pvi == '3',\n",
        "    idx2 = adata.obs.cluster_pvi == '0',\n",
        "    two_sided=True,\n",
        ")\n",
        "# using indices to compare a cluster against all other clusters\n",
        "## if we don't provide idx2, it uses all other cells as the contrast\n",
        "da_res22 = pvi.differential_accessibility(\n",
        "    idx1 = np.where(adata.obs.cluster_pvi == '3'),\n",
        "    two_sided=False,\n",
        ")\n",
        "\n",
        "da_res22.head()"
      ],
      "metadata": {
        "colab": {
          "base_uri": "https://localhost:8080/",
          "height": 243
        },
        "id": "D1u0vkYGmq7u",
        "outputId": "4905a55b-b0eb-4df3-dc00-583cd4023587"
      },
      "execution_count": 24,
      "outputs": [
        {
          "output_type": "stream",
          "name": "stdout",
          "text": [
            "DE...: 100%|██████████| 1/1 [00:24<00:00, 24.54s/it]\n",
            "DE...: 100%|██████████| 1/1 [00:34<00:00, 34.76s/it]\n"
          ]
        },
        {
          "output_type": "execute_result",
          "data": {
            "text/plain": [
              "                           prob_da  is_da_fdr  bayes_factor  effect_size  \\\n",
              "chr5:140768302-140768746    1.0000       True     18.420681    -0.831699   \n",
              "chr17:44030565-44031453     0.9998       True      8.516943    -0.772346   \n",
              "chr9:14388754-14389662      0.9998       True      8.516943    -0.908037   \n",
              "chr10:122883722-122884609   0.9998       True      8.516943    -0.753737   \n",
              "chr5:140767864-140768223    0.9996       True      7.823621    -0.868566   \n",
              "\n",
              "                           emp_effect  est_prob1  est_prob2  emp_prob1  \\\n",
              "chr5:140768302-140768746    -0.384829   0.942638   0.110938   0.427236   \n",
              "chr17:44030565-44031453     -0.330389   0.861125   0.088778   0.364486   \n",
              "chr9:14388754-14389662      -0.487377   0.961620   0.053583   0.510013   \n",
              "chr10:122883722-122884609   -0.369978   0.955718   0.201981   0.457944   \n",
              "chr5:140767864-140768223    -0.409355   0.943893   0.075327   0.440587   \n",
              "\n",
              "                           emp_prob2  \n",
              "chr5:140768302-140768746    0.042407  \n",
              "chr17:44030565-44031453     0.034097  \n",
              "chr9:14388754-14389662      0.022636  \n",
              "chr10:122883722-122884609   0.087966  \n",
              "chr5:140767864-140768223    0.031232  "
            ],
            "text/html": [
              "\n",
              "  <div id=\"df-0ea174fc-bff4-44fb-a058-abf31d9bb32e\">\n",
              "    <div class=\"colab-df-container\">\n",
              "      <div>\n",
              "<style scoped>\n",
              "    .dataframe tbody tr th:only-of-type {\n",
              "        vertical-align: middle;\n",
              "    }\n",
              "\n",
              "    .dataframe tbody tr th {\n",
              "        vertical-align: top;\n",
              "    }\n",
              "\n",
              "    .dataframe thead th {\n",
              "        text-align: right;\n",
              "    }\n",
              "</style>\n",
              "<table border=\"1\" class=\"dataframe\">\n",
              "  <thead>\n",
              "    <tr style=\"text-align: right;\">\n",
              "      <th></th>\n",
              "      <th>prob_da</th>\n",
              "      <th>is_da_fdr</th>\n",
              "      <th>bayes_factor</th>\n",
              "      <th>effect_size</th>\n",
              "      <th>emp_effect</th>\n",
              "      <th>est_prob1</th>\n",
              "      <th>est_prob2</th>\n",
              "      <th>emp_prob1</th>\n",
              "      <th>emp_prob2</th>\n",
              "    </tr>\n",
              "  </thead>\n",
              "  <tbody>\n",
              "    <tr>\n",
              "      <th>chr5:140768302-140768746</th>\n",
              "      <td>1.0000</td>\n",
              "      <td>True</td>\n",
              "      <td>18.420681</td>\n",
              "      <td>-0.831699</td>\n",
              "      <td>-0.384829</td>\n",
              "      <td>0.942638</td>\n",
              "      <td>0.110938</td>\n",
              "      <td>0.427236</td>\n",
              "      <td>0.042407</td>\n",
              "    </tr>\n",
              "    <tr>\n",
              "      <th>chr17:44030565-44031453</th>\n",
              "      <td>0.9998</td>\n",
              "      <td>True</td>\n",
              "      <td>8.516943</td>\n",
              "      <td>-0.772346</td>\n",
              "      <td>-0.330389</td>\n",
              "      <td>0.861125</td>\n",
              "      <td>0.088778</td>\n",
              "      <td>0.364486</td>\n",
              "      <td>0.034097</td>\n",
              "    </tr>\n",
              "    <tr>\n",
              "      <th>chr9:14388754-14389662</th>\n",
              "      <td>0.9998</td>\n",
              "      <td>True</td>\n",
              "      <td>8.516943</td>\n",
              "      <td>-0.908037</td>\n",
              "      <td>-0.487377</td>\n",
              "      <td>0.961620</td>\n",
              "      <td>0.053583</td>\n",
              "      <td>0.510013</td>\n",
              "      <td>0.022636</td>\n",
              "    </tr>\n",
              "    <tr>\n",
              "      <th>chr10:122883722-122884609</th>\n",
              "      <td>0.9998</td>\n",
              "      <td>True</td>\n",
              "      <td>8.516943</td>\n",
              "      <td>-0.753737</td>\n",
              "      <td>-0.369978</td>\n",
              "      <td>0.955718</td>\n",
              "      <td>0.201981</td>\n",
              "      <td>0.457944</td>\n",
              "      <td>0.087966</td>\n",
              "    </tr>\n",
              "    <tr>\n",
              "      <th>chr5:140767864-140768223</th>\n",
              "      <td>0.9996</td>\n",
              "      <td>True</td>\n",
              "      <td>7.823621</td>\n",
              "      <td>-0.868566</td>\n",
              "      <td>-0.409355</td>\n",
              "      <td>0.943893</td>\n",
              "      <td>0.075327</td>\n",
              "      <td>0.440587</td>\n",
              "      <td>0.031232</td>\n",
              "    </tr>\n",
              "  </tbody>\n",
              "</table>\n",
              "</div>\n",
              "      <button class=\"colab-df-convert\" onclick=\"convertToInteractive('df-0ea174fc-bff4-44fb-a058-abf31d9bb32e')\"\n",
              "              title=\"Convert this dataframe to an interactive table.\"\n",
              "              style=\"display:none;\">\n",
              "        \n",
              "  <svg xmlns=\"http://www.w3.org/2000/svg\" height=\"24px\"viewBox=\"0 0 24 24\"\n",
              "       width=\"24px\">\n",
              "    <path d=\"M0 0h24v24H0V0z\" fill=\"none\"/>\n",
              "    <path d=\"M18.56 5.44l.94 2.06.94-2.06 2.06-.94-2.06-.94-.94-2.06-.94 2.06-2.06.94zm-11 1L8.5 8.5l.94-2.06 2.06-.94-2.06-.94L8.5 2.5l-.94 2.06-2.06.94zm10 10l.94 2.06.94-2.06 2.06-.94-2.06-.94-.94-2.06-.94 2.06-2.06.94z\"/><path d=\"M17.41 7.96l-1.37-1.37c-.4-.4-.92-.59-1.43-.59-.52 0-1.04.2-1.43.59L10.3 9.45l-7.72 7.72c-.78.78-.78 2.05 0 2.83L4 21.41c.39.39.9.59 1.41.59.51 0 1.02-.2 1.41-.59l7.78-7.78 2.81-2.81c.8-.78.8-2.07 0-2.86zM5.41 20L4 18.59l7.72-7.72 1.47 1.35L5.41 20z\"/>\n",
              "  </svg>\n",
              "      </button>\n",
              "      \n",
              "  <style>\n",
              "    .colab-df-container {\n",
              "      display:flex;\n",
              "      flex-wrap:wrap;\n",
              "      gap: 12px;\n",
              "    }\n",
              "\n",
              "    .colab-df-convert {\n",
              "      background-color: #E8F0FE;\n",
              "      border: none;\n",
              "      border-radius: 50%;\n",
              "      cursor: pointer;\n",
              "      display: none;\n",
              "      fill: #1967D2;\n",
              "      height: 32px;\n",
              "      padding: 0 0 0 0;\n",
              "      width: 32px;\n",
              "    }\n",
              "\n",
              "    .colab-df-convert:hover {\n",
              "      background-color: #E2EBFA;\n",
              "      box-shadow: 0px 1px 2px rgba(60, 64, 67, 0.3), 0px 1px 3px 1px rgba(60, 64, 67, 0.15);\n",
              "      fill: #174EA6;\n",
              "    }\n",
              "\n",
              "    [theme=dark] .colab-df-convert {\n",
              "      background-color: #3B4455;\n",
              "      fill: #D2E3FC;\n",
              "    }\n",
              "\n",
              "    [theme=dark] .colab-df-convert:hover {\n",
              "      background-color: #434B5C;\n",
              "      box-shadow: 0px 1px 3px 1px rgba(0, 0, 0, 0.15);\n",
              "      filter: drop-shadow(0px 1px 2px rgba(0, 0, 0, 0.3));\n",
              "      fill: #FFFFFF;\n",
              "    }\n",
              "  </style>\n",
              "\n",
              "      <script>\n",
              "        const buttonEl =\n",
              "          document.querySelector('#df-0ea174fc-bff4-44fb-a058-abf31d9bb32e button.colab-df-convert');\n",
              "        buttonEl.style.display =\n",
              "          google.colab.kernel.accessAllowed ? 'block' : 'none';\n",
              "\n",
              "        async function convertToInteractive(key) {\n",
              "          const element = document.querySelector('#df-0ea174fc-bff4-44fb-a058-abf31d9bb32e');\n",
              "          const dataTable =\n",
              "            await google.colab.kernel.invokeFunction('convertToInteractive',\n",
              "                                                     [key], {});\n",
              "          if (!dataTable) return;\n",
              "\n",
              "          const docLinkHtml = 'Like what you see? Visit the ' +\n",
              "            '<a target=\"_blank\" href=https://colab.research.google.com/notebooks/data_table.ipynb>data table notebook</a>'\n",
              "            + ' to learn more about interactive tables.';\n",
              "          element.innerHTML = '';\n",
              "          dataTable['output_type'] = 'display_data';\n",
              "          await google.colab.output.renderOutput(dataTable, element);\n",
              "          const docLink = document.createElement('div');\n",
              "          docLink.innerHTML = docLinkHtml;\n",
              "          element.appendChild(docLink);\n",
              "        }\n",
              "      </script>\n",
              "    </div>\n",
              "  </div>\n",
              "  "
            ]
          },
          "metadata": {},
          "execution_count": 24
        }
      ]
    },
    {
      "cell_type": "markdown",
      "source": [
        "\n",
        "The return value is a pandas DataFrame with the differential results and basic properties of the comparison:\n",
        "\n",
        "`prob_da` in our case is the probability of cells from cluster 0 being more than 0.05 (the default minimal effect) more accessible than cells from the rest of the data.\n",
        "\n",
        "`is_da_fdr` is a conservative classification (True/False) of whether a region is differential accessible. This is one way to threshold the results.\n",
        "\n",
        "`bayes_factor` is a statistical significance score. It doesn't have a commonly acceptable threshold (e.g 0.05 for p-values), bu we demonstrate below that it's well calibrated to the effect size.\n",
        "\n",
        "`effect_size` is the effect size, calculated as `est_prob1 - est_prob2`.\n",
        "\n",
        "`emp_effect` is the empirical effect size, calculated as `emp_prob1 - emp_prob2`.\n",
        "\n",
        "`est_prob{1,2}` are the estimated probabilities of accessibility in group1 and group2.\n",
        "\n",
        "`emp_prob{1,2}` are the empirical probabilities of detection (how many cells in group X was the region detected in).\n",
        "\n",
        "We can make sure the probability of DA is well calibrated, and look at the regions that are identified as differentially accessible:"
      ],
      "metadata": {
        "id": "fzyzEHP4o4dG"
      }
    },
    {
      "cell_type": "code",
      "source": [
        "plt.scatter(da_res22.effect_size, da_res22.prob_da, s=1)\n",
        "plt.xlabel(\"effect size\")\n",
        "plt.ylabel(\"probability of DA\")\n",
        "plt.show()\n",
        "\n",
        "da_res22.loc[da_res22.is_da_fdr].sort_values('prob_da', ascending=False).head(10)"
      ],
      "metadata": {
        "colab": {
          "base_uri": "https://localhost:8080/",
          "height": 663
        },
        "id": "ZHDT7Wjqo-lD",
        "outputId": "41014daf-e79d-4bf6-9b8c-9256a3447345"
      },
      "execution_count": 25,
      "outputs": [
        {
          "output_type": "display_data",
          "data": {
            "text/plain": [
              "<Figure size 320x320 with 1 Axes>"
            ],
            "image/png": "[encoded data removed]"
          },
          "metadata": {
            "image/png": {
              "width": 317,
              "height": 300
            },
            "needs_background": "light"
          }
        },
        {
          "output_type": "execute_result",
          "data": {
            "text/plain": [
              "                           prob_da  is_da_fdr  bayes_factor  effect_size  \\\n",
              "chr5:140768302-140768746    1.0000       True     18.420681    -0.831699   \n",
              "chr9:14388754-14389662      0.9998       True      8.516943    -0.908037   \n",
              "chr10:122883722-122884609   0.9998       True      8.516943    -0.753737   \n",
              "chr17:44030565-44031453     0.9998       True      8.516943    -0.772346   \n",
              "chr7:63986317-63987232      0.9996       True      7.823621    -0.873298   \n",
              "chr5:122693243-122694104    0.9996       True      7.823621    -0.868511   \n",
              "chr5:64702845-64703648      0.9996       True      7.823621    -0.647647   \n",
              "chr3:95904822-95905652      0.9996       True      7.823621    -0.864338   \n",
              "chr4:125644925-125645803    0.9996       True      7.823621    -0.859836   \n",
              "chr5:114102671-114103571    0.9996       True      7.823621    -0.906906   \n",
              "\n",
              "                           emp_effect  est_prob1  est_prob2  emp_prob1  \\\n",
              "chr5:140768302-140768746    -0.384829   0.942638   0.110938   0.427236   \n",
              "chr9:14388754-14389662      -0.487377   0.961620   0.053583   0.510013   \n",
              "chr10:122883722-122884609   -0.369978   0.955718   0.201981   0.457944   \n",
              "chr17:44030565-44031453     -0.330389   0.861125   0.088778   0.364486   \n",
              "chr7:63986317-63987232      -0.513476   0.968357   0.095059   0.556742   \n",
              "chr5:122693243-122694104    -0.467040   0.961547   0.093036   0.506008   \n",
              "chr5:64702845-64703648      -0.263099   0.757254   0.109607   0.303071   \n",
              "chr3:95904822-95905652      -0.443827   0.958912   0.094574   0.476636   \n",
              "chr4:125644925-125645803    -0.430958   0.931046   0.071210   0.460614   \n",
              "chr5:114102671-114103571    -0.460864   0.966595   0.059689   0.484646   \n",
              "\n",
              "                           emp_prob2  \n",
              "chr5:140768302-140768746    0.042407  \n",
              "chr9:14388754-14389662      0.022636  \n",
              "chr10:122883722-122884609   0.087966  \n",
              "chr17:44030565-44031453     0.034097  \n",
              "chr7:63986317-63987232      0.043266  \n",
              "chr5:122693243-122694104    0.038968  \n",
              "chr5:64702845-64703648      0.039971  \n",
              "chr3:95904822-95905652      0.032808  \n",
              "chr4:125644925-125645803    0.029656  \n",
              "chr5:114102671-114103571    0.023782  "
            ],
            "text/html": [
              "\n",
              "  <div id=\"df-5d1c0e8f-1c18-483a-8cd4-bed4f3cd5ecd\">\n",
              "    <div class=\"colab-df-container\">\n",
              "      <div>\n",
              "<style scoped>\n",
              "    .dataframe tbody tr th:only-of-type {\n",
              "        vertical-align: middle;\n",
              "    }\n",
              "\n",
              "    .dataframe tbody tr th {\n",
              "        vertical-align: top;\n",
              "    }\n",
              "\n",
              "    .dataframe thead th {\n",
              "        text-align: right;\n",
              "    }\n",
              "</style>\n",
              "<table border=\"1\" class=\"dataframe\">\n",
              "  <thead>\n",
              "    <tr style=\"text-align: right;\">\n",
              "      <th></th>\n",
              "      <th>prob_da</th>\n",
              "      <th>is_da_fdr</th>\n",
              "      <th>bayes_factor</th>\n",
              "      <th>effect_size</th>\n",
              "      <th>emp_effect</th>\n",
              "      <th>est_prob1</th>\n",
              "      <th>est_prob2</th>\n",
              "      <th>emp_prob1</th>\n",
              "      <th>emp_prob2</th>\n",
              "    </tr>\n",
              "  </thead>\n",
              "  <tbody>\n",
              "    <tr>\n",
              "      <th>chr5:140768302-140768746</th>\n",
              "      <td>1.0000</td>\n",
              "      <td>True</td>\n",
              "      <td>18.420681</td>\n",
              "      <td>-0.831699</td>\n",
              "      <td>-0.384829</td>\n",
              "      <td>0.942638</td>\n",
              "      <td>0.110938</td>\n",
              "      <td>0.427236</td>\n",
              "      <td>0.042407</td>\n",
              "    </tr>\n",
              "    <tr>\n",
              "      <th>chr9:14388754-14389662</th>\n",
              "      <td>0.9998</td>\n",
              "      <td>True</td>\n",
              "      <td>8.516943</td>\n",
              "      <td>-0.908037</td>\n",
              "      <td>-0.487377</td>\n",
              "      <td>0.961620</td>\n",
              "      <td>0.053583</td>\n",
              "      <td>0.510013</td>\n",
              "      <td>0.022636</td>\n",
              "    </tr>\n",
              "    <tr>\n",
              "      <th>chr10:122883722-122884609</th>\n",
              "      <td>0.9998</td>\n",
              "      <td>True</td>\n",
              "      <td>8.516943</td>\n",
              "      <td>-0.753737</td>\n",
              "      <td>-0.369978</td>\n",
              "      <td>0.955718</td>\n",
              "      <td>0.201981</td>\n",
              "      <td>0.457944</td>\n",
              "      <td>0.087966</td>\n",
              "    </tr>\n",
              "    <tr>\n",
              "      <th>chr17:44030565-44031453</th>\n",
              "      <td>0.9998</td>\n",
              "      <td>True</td>\n",
              "      <td>8.516943</td>\n",
              "      <td>-0.772346</td>\n",
              "      <td>-0.330389</td>\n",
              "      <td>0.861125</td>\n",
              "      <td>0.088778</td>\n",
              "      <td>0.364486</td>\n",
              "      <td>0.034097</td>\n",
              "    </tr>\n",
              "    <tr>\n",
              "      <th>chr7:63986317-63987232</th>\n",
              "      <td>0.9996</td>\n",
              "      <td>True</td>\n",
              "      <td>7.823621</td>\n",
              "      <td>-0.873298</td>\n",
              "      <td>-0.513476</td>\n",
              "      <td>0.968357</td>\n",
              "      <td>0.095059</td>\n",
              "      <td>0.556742</td>\n",
              "      <td>0.043266</td>\n",
              "    </tr>\n",
              "    <tr>\n",
              "      <th>chr5:122693243-122694104</th>\n",
              "      <td>0.9996</td>\n",
              "      <td>True</td>\n",
              "      <td>7.823621</td>\n",
              "      <td>-0.868511</td>\n",
              "      <td>-0.467040</td>\n",
              "      <td>0.961547</td>\n",
              "      <td>0.093036</td>\n",
              "      <td>0.506008</td>\n",
              "      <td>0.038968</td>\n",
              "    </tr>\n",
              "    <tr>\n",
              "      <th>chr5:64702845-64703648</th>\n",
              "      <td>0.9996</td>\n",
              "      <td>True</td>\n",
              "      <td>7.823621</td>\n",
              "      <td>-0.647647</td>\n",
              "      <td>-0.263099</td>\n",
              "      <td>0.757254</td>\n",
              "      <td>0.109607</td>\n",
              "      <td>0.303071</td>\n",
              "      <td>0.039971</td>\n",
              "    </tr>\n",
              "    <tr>\n",
              "      <th>chr3:95904822-95905652</th>\n",
              "      <td>0.9996</td>\n",
              "      <td>True</td>\n",
              "      <td>7.823621</td>\n",
              "      <td>-0.864338</td>\n",
              "      <td>-0.443827</td>\n",
              "      <td>0.958912</td>\n",
              "      <td>0.094574</td>\n",
              "      <td>0.476636</td>\n",
              "      <td>0.032808</td>\n",
              "    </tr>\n",
              "    <tr>\n",
              "      <th>chr4:125644925-125645803</th>\n",
              "      <td>0.9996</td>\n",
              "      <td>True</td>\n",
              "      <td>7.823621</td>\n",
              "      <td>-0.859836</td>\n",
              "      <td>-0.430958</td>\n",
              "      <td>0.931046</td>\n",
              "      <td>0.071210</td>\n",
              "      <td>0.460614</td>\n",
              "      <td>0.029656</td>\n",
              "    </tr>\n",
              "    <tr>\n",
              "      <th>chr5:114102671-114103571</th>\n",
              "      <td>0.9996</td>\n",
              "      <td>True</td>\n",
              "      <td>7.823621</td>\n",
              "      <td>-0.906906</td>\n",
              "      <td>-0.460864</td>\n",
              "      <td>0.966595</td>\n",
              "      <td>0.059689</td>\n",
              "      <td>0.484646</td>\n",
              "      <td>0.023782</td>\n",
              "    </tr>\n",
              "  </tbody>\n",
              "</table>\n",
              "</div>\n",
              "      <button class=\"colab-df-convert\" onclick=\"convertToInteractive('df-5d1c0e8f-1c18-483a-8cd4-bed4f3cd5ecd')\"\n",
              "              title=\"Convert this dataframe to an interactive table.\"\n",
              "              style=\"display:none;\">\n",
              "        \n",
              "  <svg xmlns=\"http://www.w3.org/2000/svg\" height=\"24px\"viewBox=\"0 0 24 24\"\n",
              "       width=\"24px\">\n",
              "    <path d=\"M0 0h24v24H0V0z\" fill=\"none\"/>\n",
              "    <path d=\"M18.56 5.44l.94 2.06.94-2.06 2.06-.94-2.06-.94-.94-2.06-.94 2.06-2.06.94zm-11 1L8.5 8.5l.94-2.06 2.06-.94-2.06-.94L8.5 2.5l-.94 2.06-2.06.94zm10 10l.94 2.06.94-2.06 2.06-.94-2.06-.94-.94-2.06-.94 2.06-2.06.94z\"/><path d=\"M17.41 7.96l-1.37-1.37c-.4-.4-.92-.59-1.43-.59-.52 0-1.04.2-1.43.59L10.3 9.45l-7.72 7.72c-.78.78-.78 2.05 0 2.83L4 21.41c.39.39.9.59 1.41.59.51 0 1.02-.2 1.41-.59l7.78-7.78 2.81-2.81c.8-.78.8-2.07 0-2.86zM5.41 20L4 18.59l7.72-7.72 1.47 1.35L5.41 20z\"/>\n",
              "  </svg>\n",
              "      </button>\n",
              "      \n",
              "  <style>\n",
              "    .colab-df-container {\n",
              "      display:flex;\n",
              "      flex-wrap:wrap;\n",
              "      gap: 12px;\n",
              "    }\n",
              "\n",
              "    .colab-df-convert {\n",
              "      background-color: #E8F0FE;\n",
              "      border: none;\n",
              "      border-radius: 50%;\n",
              "      cursor: pointer;\n",
              "      display: none;\n",
              "      fill: #1967D2;\n",
              "      height: 32px;\n",
              "      padding: 0 0 0 0;\n",
              "      width: 32px;\n",
              "    }\n",
              "\n",
              "    .colab-df-convert:hover {\n",
              "      background-color: #E2EBFA;\n",
              "      box-shadow: 0px 1px 2px rgba(60, 64, 67, 0.3), 0px 1px 3px 1px rgba(60, 64, 67, 0.15);\n",
              "      fill: #174EA6;\n",
              "    }\n",
              "\n",
              "    [theme=dark] .colab-df-convert {\n",
              "      background-color: #3B4455;\n",
              "      fill: #D2E3FC;\n",
              "    }\n",
              "\n",
              "    [theme=dark] .colab-df-convert:hover {\n",
              "      background-color: #434B5C;\n",
              "      box-shadow: 0px 1px 3px 1px rgba(0, 0, 0, 0.15);\n",
              "      filter: drop-shadow(0px 1px 2px rgba(0, 0, 0, 0.3));\n",
              "      fill: #FFFFFF;\n",
              "    }\n",
              "  </style>\n",
              "\n",
              "      <script>\n",
              "        const buttonEl =\n",
              "          document.querySelector('#df-5d1c0e8f-1c18-483a-8cd4-bed4f3cd5ecd button.colab-df-convert');\n",
              "        buttonEl.style.display =\n",
              "          google.colab.kernel.accessAllowed ? 'block' : 'none';\n",
              "\n",
              "        async function convertToInteractive(key) {\n",
              "          const element = document.querySelector('#df-5d1c0e8f-1c18-483a-8cd4-bed4f3cd5ecd');\n",
              "          const dataTable =\n",
              "            await google.colab.kernel.invokeFunction('convertToInteractive',\n",
              "                                                     [key], {});\n",
              "          if (!dataTable) return;\n",
              "\n",
              "          const docLinkHtml = 'Like what you see? Visit the ' +\n",
              "            '<a target=\"_blank\" href=https://colab.research.google.com/notebooks/data_table.ipynb>data table notebook</a>'\n",
              "            + ' to learn more about interactive tables.';\n",
              "          element.innerHTML = '';\n",
              "          dataTable['output_type'] = 'display_data';\n",
              "          await google.colab.output.renderOutput(dataTable, element);\n",
              "          const docLink = document.createElement('div');\n",
              "          docLink.innerHTML = docLinkHtml;\n",
              "          element.appendChild(docLink);\n",
              "        }\n",
              "      </script>\n",
              "    </div>\n",
              "  </div>\n",
              "  "
            ]
          },
          "metadata": {},
          "execution_count": 25
        }
      ]
    },
    {
      "cell_type": "markdown",
      "source": [
        "Next steps would be to examine these regions using various different annotation and enrichment methods. \n",
        "\n",
        "For instance, chr5:140768302-140768746, one of the regions preferentially accessible in cluster 0.\n"
      ],
      "metadata": {
        "id": "0aeobNnwwPQO"
      }
    }
  ]
}